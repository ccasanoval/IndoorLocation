{
 "cells": [
  {
   "cell_type": "markdown",
   "metadata": {},
   "source": [
    "# Ensembles\n",
    "\n",
    "Test the result of using several ANN for the same prediction task\n"
   ]
  },
  {
   "cell_type": "code",
   "execution_count": 1,
   "metadata": {
    "collapsed": false
   },
   "outputs": [
    {
     "name": "stderr",
     "output_type": "stream",
     "text": [
      "Using TensorFlow backend.\n"
     ]
    }
   ],
   "source": [
    "import numpy as np\n",
    "import matplotlib.pyplot as plt\n",
    "import pandas as pd\n",
    "import tensorflow as tf\n",
    "\n",
    "from sklearn.model_selection import train_test_split #pip install -U scikit-learn\n",
    "from sklearn.preprocessing import MinMaxScaler\n",
    "\n",
    "from keras import models\n",
    "from keras import layers\n",
    "from keras import optimizers\n",
    "from keras import losses\n",
    "from keras import metrics\n",
    "\n",
    "import time\n",
    "import operator"
   ]
  },
  {
   "cell_type": "code",
   "execution_count": 2,
   "metadata": {
    "collapsed": false
   },
   "outputs": [
    {
     "data": {
      "text/plain": [
       "[('WI0', 71),\n",
       " ('WI7', 190),\n",
       " ('WI1', 284),\n",
       " ('WI3', 285),\n",
       " ('WI5', 293),\n",
       " ('WI4', 294),\n",
       " ('WI6', 310),\n",
       " ('WI2', 330),\n",
       " ('WI9', 360),\n",
       " ('WI8', 1281)]"
      ]
     },
     "execution_count": 2,
     "metadata": {},
     "output_type": "execute_result"
    }
   ],
   "source": [
    "datos = pd.read_csv('datos.csv')\n",
    "\n",
    "datos.sample(frac=1)\n",
    "\n",
    "x_data = datos.drop(labels=['PTO_X', 'PTO_Y'], axis=1)\n",
    "y_data = datos.drop(['WI0', 'WI1', 'WI2', 'WI3', 'WI4', 'WI5', 'WI6', 'WI7', 'WI8', 'WI9'], axis=1)\n",
    "\n",
    "mejores = {}\n",
    "macs_old = ['WI0', 'WI1', 'WI2', 'WI3', 'WI4', 'WI5', 'WI6', 'WI7', 'WI8', 'WI9']\n",
    "for i in macs_old:\n",
    "    count = 0\n",
    "    for j in x_data[i]:\n",
    "        if(j == -99):\n",
    "            count += 1\n",
    "    mejores[i] = count\n",
    "    #print(i, \" --> \", count)\n",
    "    \n",
    "sorted(mejores.items(), key=operator.itemgetter(1))\n",
    "    \n",
    "#--> Probar con los que menos -99 tienen: WI0, WI1, WI3, WI4, WI5, WI7"
   ]
  },
  {
   "cell_type": "code",
   "execution_count": 3,
   "metadata": {
    "collapsed": true
   },
   "outputs": [],
   "source": [
    "import winsound\n",
    "def beep():\n",
    "    duration = 500  # millisecond\n",
    "    freq = 900  # Hz\n",
    "    winsound.Beep(freq, duration)\n",
    "    winsound.Beep(freq, duration)\n",
    "    winsound.Beep(freq, 2*duration)"
   ]
  },
  {
   "cell_type": "code",
   "execution_count": 4,
   "metadata": {
    "collapsed": true
   },
   "outputs": [],
   "source": [
    "def calcError(real, pred):\n",
    "    error = 0.\n",
    "    real0 = np.asarray(real)\n",
    "    for i in range(real.shape[0]):\n",
    "        error = error + np.sqrt(pow(pred[i][0] - real0[i][0], 2) + pow(pred[i][1] - real0[i][1], 2))\n",
    "    return error  /  real.shape[0]"
   ]
  },
  {
   "cell_type": "code",
   "execution_count": 5,
   "metadata": {
    "collapsed": true
   },
   "outputs": [],
   "source": [
    "#################################################################################################\n",
    "#ANN Model\n",
    "batch_size=128\n",
    "epocas=60000\n",
    "\n",
    "def build_model():\n",
    "    model = models.Sequential()\n",
    "    model.add(layers.Dense(3, activation='relu', input_shape=(x_data.shape[1],), name='cesin'))\n",
    "    model.add(layers.Dense(4, activation='relu'))\n",
    "    model.add(layers.Dense(4, activation='relu'))\n",
    "    model.add(layers.Dense(4, activation='relu'))\n",
    "    model.add(layers.Dense(3, activation='relu'))\n",
    "    model.add(layers.Dense(2, name='cesout'))\n",
    "    model.compile(optimizer=optimizers.RMSprop(lr=0.0001), loss=losses.mse, metrics=[metrics.mae])\n",
    "    return model"
   ]
  },
  {
   "cell_type": "code",
   "execution_count": 6,
   "metadata": {
    "collapsed": false
   },
   "outputs": [
    {
     "name": "stdout",
     "output_type": "stream",
     "text": [
      "TRAIN DATA:  (1579, 6)\n",
      "TEST  DATA:  (678, 6)\n"
     ]
    }
   ],
   "source": [
    "#################################################################################################\n",
    "#Loading the data\n",
    "datos = pd.read_csv('datos.csv')\n",
    "\n",
    "datos.sample(frac=1)\n",
    "\n",
    "#x_data = datos.drop(labels=['PTO_X', 'PTO_Y', 'WI3', 'WI5', 'WI8', 'WI9'], axis=1)\n",
    "x_data = datos.drop(labels=['PTO_X', 'PTO_Y', 'WI2', 'WI6', 'WI8', 'WI9'], axis=1)\n",
    "\n",
    "y_data = datos.drop(['WI0', 'WI1', 'WI2', 'WI3', 'WI4', 'WI5', 'WI6', 'WI7', 'WI8', 'WI9'], axis=1)\n",
    "x_train, x_test, y_train, y_test = train_test_split(x_data, y_data, test_size=0.3, random_state=101)\n",
    "\n",
    "print(\"TRAIN DATA: \", x_train.shape)\n",
    "print(\"TEST  DATA: \", x_test.shape)"
   ]
  },
  {
   "cell_type": "code",
   "execution_count": 7,
   "metadata": {
    "collapsed": false
   },
   "outputs": [
    {
     "name": "stdout",
     "output_type": "stream",
     "text": [
      "MEAN: -62.442791,  STD DEV: 2.601134\n"
     ]
    }
   ],
   "source": [
    "#################################################################################################\n",
    "#Normalizing the data\n",
    "mean = x_train.mean(axis=0).mean()\n",
    "std  = x_train.std(axis=0).std()\n",
    "print(\"MEAN: %f,  STD DEV: %f\" % (mean, std))\n",
    "x_train = (x_train - mean) / std\n",
    "x_test = (x_test - mean) / std"
   ]
  },
  {
   "cell_type": "code",
   "execution_count": null,
   "metadata": {
    "collapsed": false
   },
   "outputs": [
    {
     "name": "stdout",
     "output_type": "stream",
     "text": [
      "Wed Jan 24 13:35:19 2018\n",
      "Samples by fold:  752 \n",
      "\n",
      "processing fold # 0\n"
     ]
    }
   ],
   "source": [
    "#################################################################################################\n",
    "# K Fold Study\n",
    "k = 3\n",
    "n_samples = x_data.size // x_data.shape[1] // k\n",
    "modelos = []\n",
    "\n",
    "print(time.ctime())\n",
    "print('Samples by fold: ', n_samples, '\\n')\n",
    "all_scores = []\n",
    "all_hist = []\n",
    "for i in range(k):\n",
    "    print('processing fold #', i)\n",
    "\n",
    "    x_valid_k = x_data[i * n_samples : (i + 1) * n_samples]\n",
    "    y_valid_k = y_data[i * n_samples : (i + 1) * n_samples]\n",
    "    x_data_k = np.concatenate([x_data[ : i * n_samples], x_data[(i + 1) * n_samples : ]], axis=0)\n",
    "    y_data_k = np.concatenate([y_data[ : i * n_samples], y_data[(i + 1) * n_samples : ]], axis=0)\n",
    "\n",
    "    modelos.append(build_model())\n",
    "    hist_k = modelos[i].fit(x_data_k, y_data_k, validation_data=(x_valid_k, y_valid_k), epochs=epocas, batch_size=batch_size, verbose=0)\n",
    "    #all_hist.append(hist3.history['val_loss'])\n",
    "    y_predicted = modelos[i].predict(x_test)\n",
    "    all_scores.append(calcError(y_test, y_predicted))\n",
    "    all_hist.append(hist_k3.history['val_mean_absolute_error'])\n",
    "    print(time.ctime())\n",
    "    print(\"  Min error %f at epoch %d\" % (np.min(hist_k.history['val_loss'][:]), np.argmin(hist_k.history['val_loss'][:])))\n",
    "    \n",
    "    y_predicted = model[i].predict(x_test)\n",
    "    print(\"  CES ERROR: \", calcError(y_test, y_predicted))\n",
    "beep()"
   ]
  },
  {
   "cell_type": "code",
   "execution_count": null,
   "metadata": {
    "collapsed": true
   },
   "outputs": [],
   "source": [
    "y_predicted_tot = model[0].predict(x_test)\n",
    "for i in range(1..k):\n",
    "    y_predicted_tot = model[i].predict(x_test)\n",
    "\n",
    "print(\"  CES ERROR: \", calcError(y_test, y_predicted/k))"
   ]
  },
  {
   "cell_type": "code",
   "execution_count": null,
   "metadata": {
    "collapsed": true
   },
   "outputs": [],
   "source": []
  }
 ],
 "metadata": {
  "anaconda-cloud": {},
  "kernelspec": {
   "display_name": "Python [default]",
   "language": "python",
   "name": "python3"
  },
  "language_info": {
   "codemirror_mode": {
    "name": "ipython",
    "version": 3
   },
   "file_extension": ".py",
   "mimetype": "text/x-python",
   "name": "python",
   "nbconvert_exporter": "python",
   "pygments_lexer": "ipython3",
   "version": "3.5.2"
  }
 },
 "nbformat": 4,
 "nbformat_minor": 1
}
