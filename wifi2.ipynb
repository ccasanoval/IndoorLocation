{
 "cells": [
  {
   "cell_type": "code",
   "execution_count": 1,
   "metadata": {
    "collapsed": false
   },
   "outputs": [
    {
     "name": "stderr",
     "output_type": "stream",
     "text": [
      "Using TensorFlow backend.\n"
     ]
    }
   ],
   "source": [
    "# https://deeplearning4j.org/model-import-keras\n",
    "# https://github.com/amir-abdi/Deep-Learning-Papers-Reading-Roadmap\n",
    "# http://www.deeplearningbook.org/\n",
    "#https://blog.openai.com\n",
    "\n",
    "import numpy as np\n",
    "import matplotlib.pyplot as plt\n",
    "import pandas as pd\n",
    "import tensorflow as tf\n",
    "\n",
    "from sklearn.model_selection import train_test_split #pip install -U scikit-learn\n",
    "from sklearn.preprocessing import MinMaxScaler\n",
    "\n",
    "from keras import models\n",
    "from keras import layers\n",
    "from keras import optimizers\n",
    "from keras import losses\n",
    "from keras import metrics"
   ]
  },
  {
   "cell_type": "code",
   "execution_count": 2,
   "metadata": {
    "collapsed": false
   },
   "outputs": [
    {
     "name": "stdout",
     "output_type": "stream",
     "text": [
      "TRAIN DATA:  (1579, 10)\n",
      "TEST  DATA:  (678, 10)\n"
     ]
    }
   ],
   "source": [
    "#################################################################################################\n",
    "#Loading the data\n",
    "datos = pd.read_csv('datos.csv')\n",
    "\n",
    "#Shuffle\n",
    "#np.random.shuffle(datos)\n",
    "#datos = datos.sample(frac=1).reset_index(drop=True)\n",
    "datos.sample(frac=1)\n",
    "\n",
    "x_data = datos.drop(labels=['PTO_X', 'PTO_Y'], axis=1)\n",
    "y_data = datos.drop(['WI0', 'WI1', 'WI2', 'WI3', 'WI4', 'WI5', 'WI6', 'WI7', 'WI8', 'WI9'], axis=1)\n",
    "x_train, x_test, y_train, y_test = train_test_split(x_data, y_data, test_size=0.3, random_state=101)\n",
    "\n",
    "print(\"TRAIN DATA: \", x_train.shape)\n",
    "print(\"TEST  DATA: \", x_test.shape)"
   ]
  },
  {
   "cell_type": "code",
   "execution_count": 3,
   "metadata": {
    "collapsed": false
   },
   "outputs": [
    {
     "name": "stdout",
     "output_type": "stream",
     "text": [
      "MEAN: -65.301583,  STD DEV: 2.155530\n"
     ]
    }
   ],
   "source": [
    "#################################################################################################\n",
    "#Normalizing the data\n",
    "\n",
    "#NINGUNO = 8.638500279505998      10.156347279574847    8.474343137167798\n",
    "#MinMaxScaler = 8.872573445861626   grafico = kk\n",
    "#Mean = 7.977897581679846   grafico = ok\n",
    "#min max = 10.18788741958436\n",
    "\"\"\"\n",
    "scaler = MinMaxScaler()\n",
    "scaler.fit(x_train)\n",
    "scaler.fit(x_test)\n",
    "\"\"\"\n",
    "#OR\n",
    "\"\"\"\n",
    "mean = x_train.mean(axis=0)\n",
    "x_train -= mean\n",
    "std = x_train.std(axis=0)\n",
    "x_train /= std\n",
    "x_test -= mean\n",
    "x_test /= std\n",
    "#--> Despreciable, si no lo haces en x_test deberías ver que no cambia error\n",
    "print(\"MEAN:\\n\",mean, \"\\nSTD DEV:\\n\",std)\n",
    "\"\"\"\n",
    "\n",
    "#error = 7.403975049328515, 7.375712596870684\n",
    "mean = x_train.mean(axis=0).mean()\n",
    "std  = x_train.std(axis=0).std()\n",
    "print(\"MEAN: %f,  STD DEV: %f\" % (mean, std))\n",
    "x_train = (x_train - mean) / std\n",
    "x_test = (x_test - mean) / std\n",
    "\n",
    "\n",
    "#OR\n",
    "\"\"\"\n",
    "min = x_train.min().min()\n",
    "max = x_train.max().max()\n",
    "print(\"MIN: %f  MAX: %f\" % (min, max))\n",
    "x_train = (x_train - min)/(max - min)\n",
    "x_test = (x_test - min)/(max - min)\n",
    "\"\"\"\n",
    "\n",
    "#separar validate & test data ?\n",
    "x_valid = x_train[:400]\n",
    "x_train2 = x_train[400:]\n",
    "y_valid = y_train[:400]\n",
    "y_train2 = y_train[400:]"
   ]
  },
  {
   "cell_type": "code",
   "execution_count": 4,
   "metadata": {
    "collapsed": false
   },
   "outputs": [],
   "source": [
    "#################################################################################################\n",
    "#ANN Model\n",
    "batch_size=128\n",
    "epocas=49200\n",
    "from keras import regularizers\n",
    "reg = regularizers.l2(0.001)#*\n",
    "reg = regularizers.l1_l2(l1=0.001, l2=0.001)#*\n",
    "reg = regularizers.l1(0.001)#***\n",
    "reg = None#**\n",
    "\n",
    "def build_model():\n",
    "    model = models.Sequential()\n",
    "    model.add(layers.Dense(7, activation='relu', input_shape=(x_data.shape[1],), name='cesin', kernel_regularizer=reg))\n",
    "    model.add(layers.Dense(7, activation='relu', kernel_regularizer=reg))\n",
    "    #model.add(layers.Dropout(0.05))#DROPOUT\n",
    "    model.add(layers.Dense(7, activation='relu', kernel_regularizer=reg))\n",
    "    #model.add(layers.Dropout(0.05))#DROPOUT\n",
    "    model.add(layers.Dense(7, activation='relu', kernel_regularizer=reg))\n",
    "    #model.add(layers.Dropout(0.05))#DROPOUT\n",
    "    model.add(layers.Dense(2, name='cesout'))\n",
    "    model.compile(optimizer=optimizers.RMSprop(lr=0.0001), loss=losses.mse, metrics=[metrics.mae])\n",
    "    #model.compile(optimizer='rmsprop', loss='mse', metrics=['mae'])\n",
    "    return model"
   ]
  },
  {
   "cell_type": "code",
   "execution_count": 5,
   "metadata": {
    "collapsed": false
   },
   "outputs": [
    {
     "name": "stderr",
     "output_type": "stream",
     "text": [
      "C:\\Anaconda3\\lib\\site-packages\\keras\\callbacks.py:116: UserWarning: Method on_batch_end() is slow compared to the batch update (0.114581). Check your callbacks.\n",
      "  % delta_t_median)\n"
     ]
    }
   ],
   "source": [
    "#################################################################################################\n",
    "#Train the model  (ep: 22000)\n",
    "model = build_model()\n",
    "\n",
    "#hist = model.fit(x_train, y_train, validation_data=(x_test, y_test), epochs=epocas, batch_size=100, verbose=0)\n",
    "#hist = model.fit(x_train2, y_train2, validation_data=(x_valid, y_valid), epochs=epocas, batch_size=batch_size, verbose=0)\n",
    "hist = model.fit(x_train, y_train, validation_split=0.2, epochs=epocas, batch_size=batch_size, verbose=0)"
   ]
  },
  {
   "cell_type": "code",
   "execution_count": 25,
   "metadata": {
    "collapsed": false
   },
   "outputs": [
    {
     "name": "stdout",
     "output_type": "stream",
     "text": [
      "Min error 36.723318 at epoch 30427\n"
     ]
    },
    {
     "data": {
      "image/png": "[encoded data removed]",
      "text/plain": [
       "<matplotlib.figure.Figure at 0x1c87a127828>"
      ]
     },
     "metadata": {},
     "output_type": "display_data"
    }
   ],
   "source": [
    "#################################################################################################\n",
    "#Study the model\n",
    "print(\"Min error %f at epoch %d\" % (np.min(hist.history['val_loss'][:]), np.argmin(hist.history['val_loss'][:])))\n",
    "\n",
    "loss = hist.history['loss'][1000:]\n",
    "val_loss = hist.history['val_loss'][1000:]\n",
    "\n",
    "epochs = range(1, len(loss) + 1)\n",
    "plt.plot(epochs, loss, 'bo', label='Training loss')\n",
    "plt.plot(epochs, val_loss, 'b', label='Validation loss')\n",
    "plt.title('Training and validation loss')\n",
    "plt.xlabel('Epochs')\n",
    "#plt.xcorr\n",
    "plt.ylabel('Loss')\n",
    "plt.legend()\n",
    "plt.show()"
   ]
  },
  {
   "cell_type": "code",
   "execution_count": 7,
   "metadata": {
    "collapsed": false
   },
   "outputs": [
    {
     "name": "stdout",
     "output_type": "stream",
     "text": [
      "678/678 [==============================] - 0s 96us/step\n"
     ]
    },
    {
     "data": {
      "text/plain": [
       "4.5540614339102685"
      ]
     },
     "execution_count": 7,
     "metadata": {},
     "output_type": "execute_result"
    }
   ],
   "source": [
    "test_mse_score, test_mae_score = model.evaluate(x_test, y_test)\n",
    "test_mae_score"
   ]
  },
  {
   "cell_type": "code",
   "execution_count": 26,
   "metadata": {
    "collapsed": false
   },
   "outputs": [
    {
     "name": "stdout",
     "output_type": "stream",
     "text": [
      "CES ERROR:  7.1311945031380395\n",
      "\n",
      "\n",
      "---------------> Real vs Pred.: (81, 41) vs (83, 46)      err(-1.8, -4.6)\n",
      "---------------> Real vs Pred.: (73, 86) vs (64, 84)      err(8.5, 2.8)\n",
      "---------------> Real vs Pred.: (67, 87) vs (77, 85)      err(-10.3, 2.5)\n",
      "---------------> Real vs Pred.: (81, 46) vs (80, 44)      err(1.5, 2.1)\n",
      "---------------> Real vs Pred.: (47, 74) vs (46, 82)      err(1.6, -7.9)\n",
      "---------------> Real vs Pred.: (79, 68) vs (77, 63)      err(1.6, 5.3)\n",
      "---------------> Real vs Pred.: (72, 45) vs (77, 36)      err(-5.5, 8.8)\n",
      "---------------> Real vs Pred.: (81, 67) vs (78, 55)      err(2.4, 11.8)\n",
      "---------------> Real vs Pred.: (0, 0) vs (0, -0)      err(-0.0, 0.5)\n",
      "\n",
      "\n"
     ]
    }
   ],
   "source": [
    "#################################################################################################\n",
    "#CES error\n",
    "#\n",
    "def calcError(real, pred):\n",
    "    error = 0.\n",
    "    real0 = np.asarray(real)\n",
    "    for i in range(real.shape[0]):\n",
    "        error = error + np.sqrt(pow(pred[i][0] - real0[i][0], 2) + pow(pred[i][1] - real0[i][1], 2))\n",
    "    return error  /  real.shape[0]\n",
    "\n",
    "###\n",
    "y_predicted = model.predict(x_test)\n",
    "\n",
    "error = calcError(y_test, y_predicted)\n",
    "print(\"CES ERROR: \", error)\n",
    "print(\"\\n\")\n",
    "\n",
    "###\n",
    "y_test0 = np.asarray(y_test)\n",
    "for i in range(1,10):\n",
    "    print(\"---------------> Real vs Pred.: (%.0f, %.0f) vs (%.0f, %.0f)      err(%.1f, %.1f)\"\n",
    "          % (y_test0[i][0], y_test0[i][1], y_predicted[i][0], y_predicted[i][1],\n",
    "            y_test0[i][0] - y_predicted[i][0], y_test0[i][1] - y_predicted[i][1]))\n",
    "print(\"\\n\")"
   ]
  },
  {
   "cell_type": "code",
   "execution_count": 9,
   "metadata": {
    "collapsed": false
   },
   "outputs": [],
   "source": [
    "model.save(\"cesnet_last_\"+str(error)+\".h5\")"
   ]
  },
  {
   "cell_type": "code",
   "execution_count": 10,
   "metadata": {
    "collapsed": false
   },
   "outputs": [
    {
     "name": "stdout",
     "output_type": "stream",
     "text": [
      "Samples by fold:  752\n",
      "processing fold # 0\n",
      "Min error 79.758376 at epoch 44341\n",
      "processing fold # 1\n",
      "Min error 77.494270 at epoch 41998\n",
      "processing fold # 2\n",
      "Min error 105.003343 at epoch 48668\n"
     ]
    }
   ],
   "source": [
    "\n",
    "k = 3\n",
    "n_samples = x_data.size // x_data.shape[1] // k\n",
    "\n",
    "print('Samples by fold: ', n_samples)\n",
    "all_scores = []\n",
    "all_hist = []\n",
    "for i in range(k):\n",
    "    print('processing fold #', i)\n",
    "\n",
    "    x_valid3 = x_data[i * n_samples : (i + 1) * n_samples]\n",
    "    y_valid3 = y_data[i * n_samples : (i + 1) * n_samples]\n",
    "    x_data3 = np.concatenate([x_data[ : i * n_samples], x_data[(i + 1) * n_samples : ]], axis=0)\n",
    "    y_data3 = np.concatenate([y_data[ : i * n_samples], y_data[(i + 1) * n_samples : ]], axis=0)\n",
    "\n",
    "    model3 = build_model()\n",
    "    hist3 = model3.fit(x_data3, y_data3, validation_data=(x_valid3, y_valid3), epochs=epocas, batch_size=batch_size, verbose=0)\n",
    "    #all_hist.append(hist3.history['val_loss'])\n",
    "    y_predicted = model3.predict(x_test)\n",
    "    all_scores.append(calcError(y_test, y_predicted))\n",
    "    all_hist.append(hist3.history['val_mean_absolute_error'])\n",
    "    \n",
    "    print(\"Min error %f at epoch %d\" % (np.min(hist3.history['val_loss'][:]), np.argmin(hist3.history['val_loss'][:])))\n",
    "    "
   ]
  },
  {
   "cell_type": "code",
   "execution_count": 19,
   "metadata": {
    "collapsed": false
   },
   "outputs": [
    {
     "name": "stdout",
     "output_type": "stream",
     "text": [
      "[62.59983537643253, 34.12129321073995, 40.76684351094211]\n"
     ]
    },
    {
     "data": {
      "image/png": "[encoded data removed]",
      "text/plain": [
       "<matplotlib.figure.Figure at 0x1c87614bcc0>"
      ]
     },
     "metadata": {},
     "output_type": "display_data"
    },
    {
     "data": {
      "image/png": "[encoded data removed]",
      "text/plain": [
       "<matplotlib.figure.Figure at 0x1c877356b00>"
      ]
     },
     "metadata": {},
     "output_type": "display_data"
    }
   ],
   "source": [
    "print(all_scores)\n",
    "average_hist = [np.mean([x[i] for x in all_hist]) for i in range(epocas)]\n",
    "\n",
    "\"\"\"\n",
    "def smooth_curve(points, factor=1):\n",
    "    smoothed_points = []\n",
    "    for point in points:\n",
    "        if smoothed_points:\n",
    "            previous = smoothed_points[-1]\n",
    "            smoothed_points.append(previous * factor + point * (1 - factor))\n",
    "        else:\n",
    "            smoothed_points.append(point)\n",
    "        return smoothed_points\n",
    "smooth_history = smooth_curve(average_hist[10:])\n",
    "\"\"\"\n",
    "\n",
    "offset0 = 1000\n",
    "smooth_history = average_hist[offset0:]\n",
    "plt.plot(range(1+offset0, len(smooth_history) + 1 + offset0), smooth_history)\n",
    "plt.xlabel('Epochs')\n",
    "plt.ylabel('Validation')\n",
    "plt.show()\n",
    "\n",
    "offset0 = 25010\n",
    "smooth_history = average_hist[offset0:]#\n",
    "plt.plot(range(1+offset0, len(smooth_history) + 1 + offset0), smooth_history)\n",
    "plt.xlabel('Epochs')\n",
    "plt.ylabel('Validation')\n",
    "plt.show()"
   ]
  },
  {
   "cell_type": "code",
   "execution_count": 20,
   "metadata": {
    "collapsed": false
   },
   "outputs": [],
   "source": [
    "#Entrenar la red con todos los daton hasta la mejor epoca\n",
    "epocas_optimas = 60000\n",
    "x_data2 = (x_data - mean) / std"
   ]
  },
  {
   "cell_type": "markdown",
   "metadata": {},
   "source": [
    "Una vez obtienes la mejor configuracion de metavariables (epochs, layers, neurons, etc) entrenas con todo x_data"
   ]
  },
  {
   "cell_type": "code",
   "execution_count": 21,
   "metadata": {
    "collapsed": false
   },
   "outputs": [
    {
     "name": "stdout",
     "output_type": "stream",
     "text": [
      "678/678 [==============================] - 0s 525us/step\n",
      "test_mse_score=36.791677, test_mae_score=4.373339\n",
      "CES ERROR:  6.7687579802208395\n",
      "\n",
      "\n"
     ]
    }
   ],
   "source": [
    "#\n",
    "model8 = build_model()\n",
    "model8.fit(x_data2, y_data, epochs=epocas_optimas, batch_size=batch_size, verbose=0)\n",
    "test_mse_score, test_mae_score = model8.evaluate(x_test, y_test)\n",
    "print(\"test_mse_score=%f, test_mae_score=%f\" % (test_mse_score, test_mae_score))\n",
    "y_predicted = model8.predict(x_test)\n",
    "error = calcError(y_test, y_predicted)\n",
    "print(\"CES ERROR: \", error)\n",
    "print(\"\\n\")\n"
   ]
  },
  {
   "cell_type": "code",
   "execution_count": 28,
   "metadata": {
    "collapsed": true
   },
   "outputs": [],
   "source": [
    "model8.save(\"cesnet_end1_\"+str(error)+\".h5\")\n",
    "model8.save(\"cesnet_end1.h5\")"
   ]
  },
  {
   "cell_type": "code",
   "execution_count": 22,
   "metadata": {
    "collapsed": false
   },
   "outputs": [
    {
     "name": "stdout",
     "output_type": "stream",
     "text": [
      "678/678 [==============================] - 0s 46us/step\n",
      "test_mse_score=31.881342, test_mae_score=4.112140\n",
      "CES ERROR:  6.462209725887058\n",
      "\n",
      "\n"
     ]
    }
   ],
   "source": [
    "#\n",
    "model9 = build_model()\n",
    "model9.fit(x_data2, y_data, validation_data=(x_valid, y_valid), epochs=epocas_optimas, batch_size=batch_size, verbose=0)\n",
    "test_mse_score, test_mae_score = model9.evaluate(x_test, y_test)\n",
    "print(\"test_mse_score=%f, test_mae_score=%f\" % (test_mse_score, test_mae_score))\n",
    "y_predicted = model9.predict(x_test)\n",
    "error = calcError(y_test, y_predicted)\n",
    "print(\"CES ERROR: \", error)\n",
    "print(\"\\n\")\n"
   ]
  },
  {
   "cell_type": "code",
   "execution_count": 29,
   "metadata": {
    "collapsed": false
   },
   "outputs": [],
   "source": [
    "model9.save(\"cesnet_end2_\"+str(error)+\".h5\")\n",
    "model9.save(\"cesnet_end2.h5\")"
   ]
  },
  {
   "cell_type": "code",
   "execution_count": null,
   "metadata": {
    "collapsed": true
   },
   "outputs": [],
   "source": []
  },
  {
   "cell_type": "markdown",
   "metadata": {},
   "source": [
    "TODO: Reinforcement Learning ANN / Deep Q-Learning /(https://github.com/openai/gym)\n",
    "TODO: Variar las entradas..."
   ]
  }
 ],
 "metadata": {
  "anaconda-cloud": {},
  "kernelspec": {
   "display_name": "Python [default]",
   "language": "python",
   "name": "python3"
  },
  "language_info": {
   "codemirror_mode": {
    "name": "ipython",
    "version": 3
   },
   "file_extension": ".py",
   "mimetype": "text/x-python",
   "name": "python",
   "nbconvert_exporter": "python",
   "pygments_lexer": "ipython3",
   "version": "3.5.2"
  }
 },
 "nbformat": 4,
 "nbformat_minor": 1
}
