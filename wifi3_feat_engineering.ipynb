{
 "cells": [
  {
   "cell_type": "markdown",
   "metadata": {},
   "source": [
    "# Feature Engineering\n",
    "***\n",
    "\n",
    "TASK: find which MACs are the most usefull for location<br>\n",
    "\n",
    "Principle Component Analysis, Linear Discriminant  Analysis...<br>"
   ]
  },
  {
   "cell_type": "markdown",
   "metadata": {
    "collapsed": true
   },
   "source": [
    "pip install --upgrade google-cloud-firestore<br>\n",
    "pip install gcloud<br>\n",
    "\n",
    "Esto no parece ayudar:<br>\n",
    "Download and install Google Cloud SDK    https://cloud.google.com/sdk/docs/quickstart-windows<br>\n",
    "c:\\> gcloud init<br>\n",
    "\n",
    "Ve a la consola de google y crea una cuenta de servicio<br>\n",
    "https://cloud.google.com/storage/docs/authentication#generating-a-private-key<br>\n",
    "    Descarca el json y utilizalo como se muestra a continuación<br>"
   ]
  },
  {
   "cell_type": "code",
   "execution_count": 1,
   "metadata": {
    "collapsed": false
   },
   "outputs": [],
   "source": [
    "import os\n",
    "os.environ[\"GOOGLE_APPLICATION_CREDENTIALS\"] = \"Puestos-b0665827b03a.json\""
   ]
  },
  {
   "cell_type": "code",
   "execution_count": 2,
   "metadata": {
    "collapsed": false
   },
   "outputs": [],
   "source": [
    "from google.cloud import firestore\n",
    "db = firestore.Client()"
   ]
  },
  {
   "cell_type": "code",
   "execution_count": 3,
   "metadata": {
    "collapsed": true
   },
   "outputs": [],
   "source": [
    "import pandas as pd"
   ]
  },
  {
   "cell_type": "code",
   "execution_count": 4,
   "metadata": {
    "collapsed": false
   },
   "outputs": [],
   "source": [
    "# Descargar datos de firestore y guardarlos en pandas DataFrame\n",
    "\n",
    "# Conexion\n",
    "ann = db.collection(u'ann')\n",
    "ptos = ann.get()\n",
    "\n",
    "lista = []\n",
    "for pto in ptos:\n",
    "    x = pto.get('pos').longitude\n",
    "    y = pto.get('pos').latitude\n",
    "    \n",
    "    columnas = {'x': x, 'y': y}\n",
    "    for mac in pto.get('wifi'):\n",
    "        columnas[mac.get('bssid')] = mac.get('level')\n",
    "    \n",
    "    lista.append(columnas)\n",
    "\n",
    "###\n",
    "datos = pd.DataFrame(lista)\n",
    "x_data = datos.drop(labels=['x', 'y'], axis=1)\n",
    "etiquetas = datos.columns.get_values().tolist()\n",
    "for a in ['x', 'y']:\n",
    "    etiquetas.remove(a)\n",
    "y_data = datos.drop(labels=etiquetas, axis=1)\n"
   ]
  },
  {
   "cell_type": "code",
   "execution_count": 5,
   "metadata": {
    "collapsed": false
   },
   "outputs": [
    {
     "name": "stdout",
     "output_type": "stream",
     "text": [
      "Nulos en las macs disponibles:\n"
     ]
    },
    {
     "data": {
      "text/plain": [
       "[('24:1f:a0:dc:7f:ff', 0),\n",
       " ('44:e4:d9:00:76:40', 0),\n",
       " ('44:e4:d9:00:76:41', 0),\n",
       " ('44:e4:d9:00:76:42', 0),\n",
       " ('44:e4:d9:00:76:44', 0),\n",
       " ('58:35:d9:64:58:80', 0),\n",
       " ('58:35:d9:64:58:83', 0),\n",
       " ('58:35:d9:64:58:84', 0),\n",
       " ('58:35:d9:64:58:87', 0),\n",
       " ('58:35:d9:64:5b:10', 0),\n",
       " ('58:35:d9:64:5b:12', 0),\n",
       " ('64:d9:89:99:8d:e0', 0),\n",
       " ('44:e4:d9:00:76:43', 1),\n",
       " ('44:e4:d9:00:76:47', 1),\n",
       " ('58:35:d9:64:58:82', 2),\n",
       " ('58:35:d9:64:5b:14', 2),\n",
       " ('58:35:d9:64:58:81', 3),\n",
       " ('64:d9:89:99:8d:e4', 3),\n",
       " ('64:d9:89:99:8d:e7', 3),\n",
       " ('64:d9:89:99:8d:e1', 4),\n",
       " ('64:d9:89:99:8d:e2', 4),\n",
       " ('58:35:d9:64:5b:11', 5),\n",
       " ('58:35:d9:64:5b:13', 5),\n",
       " ('58:35:d9:64:5b:17', 6),\n",
       " ('78:40:e4:93:1d:67', 9),\n",
       " ('88:44:77:13:06:a7', 9),\n",
       " ('da:c4:6a:ce:1b:34', 10),\n",
       " ('f0:ee:10:43:6d:94', 10),\n",
       " ('64:d9:89:99:8d:e3', 11),\n",
       " ('c0:62:6b:8e:96:b0', 11),\n",
       " ('c0:62:6b:8e:96:b7', 11),\n",
       " ('c0:62:6b:8e:96:b1', 12),\n",
       " ('c0:62:6b:8e:96:b4', 12),\n",
       " ('c0:62:6b:8e:96:b2', 13),\n",
       " ('c0:62:6b:8e:96:b3', 13),\n",
       " ('e8:ba:70:92:67:10', 13),\n",
       " ('e8:ba:70:92:67:12', 13),\n",
       " ('fc:f5:28:c1:1e:e9', 14),\n",
       " ('e8:ba:70:92:67:13', 16),\n",
       " ('e8:ba:70:92:67:17', 16),\n",
       " ('00:12:5f:0b:bc:70', 17),\n",
       " ('64:d9:89:c4:0d:60', 17),\n",
       " ('e8:ba:70:92:67:11', 17),\n",
       " ('e8:ba:70:92:67:14', 17),\n",
       " ('48:50:73:e3:44:b2', 18),\n",
       " ('64:d9:89:c4:0d:61', 20),\n",
       " ('64:d9:89:c4:0d:62', 20),\n",
       " ('64:d9:89:c4:0d:63', 20),\n",
       " ('64:d9:89:c4:0d:64', 20),\n",
       " ('64:d9:89:c4:0d:67', 20),\n",
       " ('5c:ca:1a:f0:43:2e', 21),\n",
       " ('5e:f9:6a:4c:74:c9', 21),\n",
       " ('e4:18:6b:d3:0d:89', 21),\n",
       " ('e2:55:7d:b3:37:9f', 23),\n",
       " ('2a:56:5a:6a:81:f8', 24),\n",
       " ('58:35:d9:64:54:d3', 24),\n",
       " ('fa:8f:ca:5c:d7:13', 24),\n",
       " ('98:97:d1:8c:9a:18', 25),\n",
       " ('64:d9:89:91:ed:11', 26),\n",
       " ('64:d9:89:91:ed:17', 26),\n",
       " ('e2:55:7d:b3:37:90', 26),\n",
       " ('64:d9:89:91:ed:10', 28),\n",
       " ('64:d9:89:91:ed:14', 28)]"
      ]
     },
     "execution_count": 5,
     "metadata": {},
     "output_type": "execute_result"
    }
   ],
   "source": [
    "#Coge solo las que no tienen nulos\n",
    "print(\"Nulos en las macs disponibles:\")\n",
    "import operator\n",
    "sorted(x_data.isnull().sum().items(), key=operator.itemgetter(1))"
   ]
  },
  {
   "cell_type": "code",
   "execution_count": 6,
   "metadata": {
    "collapsed": false
   },
   "outputs": [
    {
     "name": "stdout",
     "output_type": "stream",
     "text": [
      "Nulos en las macs usadas hasta ahora:\n",
      "0\n",
      "0\n",
      "0\n",
      "2\n",
      "0\n",
      "11\n",
      "0\n",
      "0\n",
      "20\n",
      "1\n"
     ]
    }
   ],
   "source": [
    "#Usados hasta ahora\n",
    "macs_old = [\n",
    "    \"24:1f:a0:dc:7f:ff\",  #0\n",
    "    \"58:35:d9:64:58:80\",  #0\n",
    "    \"58:35:d9:64:58:83\",  #0\n",
    "    \"58:35:d9:64:58:82\",  #2 nulos\n",
    "    \"58:35:d9:64:58:87\",  #0\n",
    "    \"64:d9:89:99:8d:e3\",  #11 nulos\n",
    "    \"44:e4:d9:00:76:41\",  #0\n",
    "    \"44:e4:d9:00:76:40\",  #0\n",
    "    \"64:d9:89:c4:0d:63\",  #20 nulos\n",
    "    \"44:e4:d9:00:76:47\"]  #1 nulo\n",
    "\n",
    "print(\"Nulos en las macs usadas hasta ahora:\")\n",
    "for i in macs_old:\n",
    "    print(x_data[i].isnull().sum())\n",
    "    \n",
    "        #--> Probar con los que menos NULL tienen: WI0, WI1, WI2, WI4, WI6, WI7"
   ]
  },
  {
   "cell_type": "code",
   "execution_count": 7,
   "metadata": {
    "collapsed": false
   },
   "outputs": [
    {
     "data": {
      "text/plain": [
       "[('WI0', 71),\n",
       " ('WI7', 190),\n",
       " ('WI1', 284),\n",
       " ('WI3', 285),\n",
       " ('WI5', 293),\n",
       " ('WI4', 294),\n",
       " ('WI6', 310),\n",
       " ('WI2', 330),\n",
       " ('WI9', 360),\n",
       " ('WI8', 1281)]"
      ]
     },
     "execution_count": 7,
     "metadata": {},
     "output_type": "execute_result"
    }
   ],
   "source": [
    "datos = pd.read_csv('datos.csv')\n",
    "\n",
    "datos.sample(frac=1)\n",
    "\n",
    "x_data = datos.drop(labels=['PTO_X', 'PTO_Y'], axis=1)\n",
    "y_data = datos.drop(['WI0', 'WI1', 'WI2', 'WI3', 'WI4', 'WI5', 'WI6', 'WI7', 'WI8', 'WI9'], axis=1)\n",
    "\n",
    "mejores = {}\n",
    "macs_old = ['WI0', 'WI1', 'WI2', 'WI3', 'WI4', 'WI5', 'WI6', 'WI7', 'WI8', 'WI9']\n",
    "for i in macs_old:\n",
    "    count = 0\n",
    "    for j in x_data[i]:\n",
    "        if(j == -99):\n",
    "            count += 1\n",
    "    mejores[i] = count\n",
    "    #print(i, \" --> \", count)\n",
    "    \n",
    "sorted(mejores.items(), key=operator.itemgetter(1))\n",
    "    \n",
    "#--> Probar con los que menos -99 tienen: WI0, WI1, WI3, WI4, WI5, WI7"
   ]
  },
  {
   "cell_type": "code",
   "execution_count": null,
   "metadata": {
    "collapsed": true
   },
   "outputs": [],
   "source": []
  },
  {
   "cell_type": "code",
   "execution_count": null,
   "metadata": {
    "collapsed": true
   },
   "outputs": [],
   "source": []
  },
  {
   "cell_type": "code",
   "execution_count": null,
   "metadata": {
    "collapsed": true
   },
   "outputs": [],
   "source": []
  },
  {
   "cell_type": "code",
   "execution_count": null,
   "metadata": {
    "collapsed": false
   },
   "outputs": [],
   "source": []
  },
  {
   "cell_type": "markdown",
   "metadata": {
    "collapsed": true
   },
   "source": [
    "TEST: Buscar un modelo que funcione limitando las entradas a las que tienen menos valores nulos:\n",
    "\n",
    "        WI0, WI1, WI3, WI4, WI5, WI7\n",
    "        "
   ]
  },
  {
   "cell_type": "code",
   "execution_count": 8,
   "metadata": {
    "collapsed": false
   },
   "outputs": [
    {
     "name": "stderr",
     "output_type": "stream",
     "text": [
      "Using TensorFlow backend.\n"
     ]
    }
   ],
   "source": [
    "import numpy as np\n",
    "import matplotlib.pyplot as plt\n",
    "import pandas as pd\n",
    "import tensorflow as tf\n",
    "\n",
    "from sklearn.model_selection import train_test_split #pip install -U scikit-learn\n",
    "from sklearn.preprocessing import MinMaxScaler\n",
    "\n",
    "from keras import models\n",
    "from keras import layers\n",
    "from keras import optimizers\n",
    "from keras import losses\n",
    "from keras import metrics\n",
    "\n",
    "import time"
   ]
  },
  {
   "cell_type": "code",
   "execution_count": 9,
   "metadata": {
    "collapsed": true
   },
   "outputs": [],
   "source": [
    "import winsound\n",
    "def beep():\n",
    "    duration = 500  # millisecond\n",
    "    freq = 900  # Hz\n",
    "    winsound.Beep(freq, duration)\n",
    "    winsound.Beep(freq, duration)\n",
    "    winsound.Beep(freq, 2*duration)"
   ]
  },
  {
   "cell_type": "code",
   "execution_count": 10,
   "metadata": {
    "collapsed": false
   },
   "outputs": [
    {
     "name": "stdout",
     "output_type": "stream",
     "text": [
      "TRAIN DATA:  (1579, 6)\n",
      "TEST  DATA:  (678, 6)\n"
     ]
    }
   ],
   "source": [
    "#################################################################################################\n",
    "#Loading the data\n",
    "datos = pd.read_csv('datos.csv')\n",
    "datos = datos.sample(frac=1)#Returns a random sample of items from an axis of object.\n",
    "\n",
    "#x_data = datos.drop(labels=['PTO_X', 'PTO_Y', 'WI3', 'WI5', 'WI8', 'WI9'], axis=1)\n",
    "x_data = datos.drop(labels=['PTO_X', 'PTO_Y', 'WI2', 'WI6', 'WI8', 'WI9'], axis=1)\n",
    "\n",
    "y_data = datos.drop(['WI0', 'WI1', 'WI2', 'WI3', 'WI4', 'WI5', 'WI6', 'WI7', 'WI8', 'WI9'], axis=1)\n",
    "x_train, x_test, y_train, y_test = train_test_split(x_data, y_data, test_size=0.3, random_state=101)\n",
    "\n",
    "print(\"TRAIN DATA: \", x_train.shape)\n",
    "print(\"TEST  DATA: \", x_test.shape)"
   ]
  },
  {
   "cell_type": "code",
   "execution_count": 11,
   "metadata": {
    "collapsed": false
   },
   "outputs": [
    {
     "name": "stdout",
     "output_type": "stream",
     "text": [
      "MEAN: -62.738759,  STD DEV: 2.387312\n"
     ]
    }
   ],
   "source": [
    "#################################################################################################\n",
    "#Normalizing the data\n",
    "mean = x_train.mean(axis=0).mean()\n",
    "std  = x_train.std(axis=0).std()\n",
    "print(\"MEAN: %f,  STD DEV: %f\" % (mean, std))\n",
    "x_train = (x_train - mean) / std\n",
    "x_test = (x_test - mean) / std"
   ]
  },
  {
   "cell_type": "code",
   "execution_count": 12,
   "metadata": {
    "collapsed": true
   },
   "outputs": [],
   "source": [
    "#################################################################################################\n",
    "#ANN Model\n",
    "batch_size=128\n",
    "epocas=90000\n",
    "\n",
    "def build_model():\n",
    "    model = models.Sequential()\n",
    "    model.add(layers.Dense(3, activation='relu', input_shape=(x_data.shape[1],), name='cesin'))\n",
    "    model.add(layers.Dense(4, activation='relu'))\n",
    "    model.add(layers.Dense(4, activation='relu'))\n",
    "    model.add(layers.Dense(4, activation='relu'))\n",
    "    model.add(layers.Dense(3, activation='relu'))\n",
    "    model.add(layers.Dense(2, name='cesout'))\n",
    "    model.compile(optimizer=optimizers.RMSprop(lr=0.0001), loss=losses.mse, metrics=[metrics.mae])\n",
    "    return model\n",
    "# 7 neuronas capa -> CES ERROR:  9.341623758504909  lr=0.0001\n",
    "# 4 neuronas capa -> CES ERROR:  9.703250049616706\n",
    "# 3n 3c lr=.0001 e=13700 -> CES ERROR:  14\n",
    "# 3n 4c lr=.0001 e=70000 -> CES ERROR:  10.114522437225896\n",
    "# 3,4,4,4,3n 5c lr=.0001 e=60000 -> 9.347698820900494"
   ]
  },
  {
   "cell_type": "code",
   "execution_count": 13,
   "metadata": {
    "collapsed": false
   },
   "outputs": [
    {
     "name": "stdout",
     "output_type": "stream",
     "text": [
      "INI:  Wed Jan 24 13:57:13 2018\n",
      "END:  Wed Jan 24 14:23:01 2018\n"
     ]
    }
   ],
   "source": [
    "#################################################################################################\n",
    "#Train the model  (ep: 22000)\n",
    "print(\"INI: \", time.ctime())\n",
    "model = build_model()\n",
    "hist = model.fit(x_train, y_train, validation_split=0.2, epochs=epocas, batch_size=batch_size, verbose=0)\n",
    "print(\"END: \", time.ctime())\n",
    "beep()"
   ]
  },
  {
   "cell_type": "code",
   "execution_count": 14,
   "metadata": {
    "collapsed": false
   },
   "outputs": [
    {
     "name": "stdout",
     "output_type": "stream",
     "text": [
      "Min error 64.479433 at epoch 70041\n"
     ]
    },
    {
     "data": {
      "image/png": "[encoded data removed]",
      "text/plain": [
       "<matplotlib.figure.Figure at 0x2150d75fac8>"
      ]
     },
     "metadata": {},
     "output_type": "display_data"
    }
   ],
   "source": [
    "#################################################################################################\n",
    "#Study the model\n",
    "print(\"Min error %f at epoch %d\" % (np.min(hist.history['val_loss'][:]), np.argmin(hist.history['val_loss'][:])))\n",
    "\n",
    "offset0 = 10000\n",
    "offset1 = None\n",
    "loss = hist.history['loss'][offset0:offset1]\n",
    "val_loss = hist.history['val_loss'][offset0:offset1]\n",
    "\n",
    "epochs = range(offset0 + 1, len(loss) + offset0 + 1)\n",
    "plt.plot(epochs, loss, 'bo', label='Training loss')\n",
    "plt.plot(epochs, val_loss, 'b', label='Validation loss')\n",
    "plt.title('Training and validation loss')\n",
    "plt.xlabel('Epochs')\n",
    "plt.ylabel('Loss')\n",
    "plt.legend()\n",
    "plt.show()"
   ]
  },
  {
   "cell_type": "code",
   "execution_count": 15,
   "metadata": {
    "collapsed": false
   },
   "outputs": [
    {
     "name": "stdout",
     "output_type": "stream",
     "text": [
      "678/678 [==============================] - 0s 46us/step\n"
     ]
    },
    {
     "data": {
      "text/plain": [
       "6.257862576341207"
      ]
     },
     "execution_count": 15,
     "metadata": {},
     "output_type": "execute_result"
    }
   ],
   "source": [
    "test_mse_score, test_mae_score = model.evaluate(x_test, y_test)\n",
    "test_mae_score"
   ]
  },
  {
   "cell_type": "code",
   "execution_count": 16,
   "metadata": {
    "collapsed": false
   },
   "outputs": [
    {
     "name": "stdout",
     "output_type": "stream",
     "text": [
      "CES ERROR:  9.884135129363818\n",
      "\n",
      "\n",
      "---------------> Real vs Pred.: (64, 74) vs (68, 71)      err(-3.9, 3.0)\n",
      "---------------> Real vs Pred.: (87, 35) vs (82, 43)      err(5.1, -7.7)\n",
      "---------------> Real vs Pred.: (72, 86) vs (62, 81)      err(10.2, 4.3)\n",
      "---------------> Real vs Pred.: (62, 43) vs (76, 37)      err(-14.4, 6.0)\n",
      "---------------> Real vs Pred.: (93, 66) vs (84, 78)      err(8.2, -11.6)\n",
      "---------------> Real vs Pred.: (77, 48) vs (81, 42)      err(-3.6, 5.7)\n",
      "---------------> Real vs Pred.: (86, 53) vs (83, 45)      err(3.5, 8.3)\n",
      "---------------> Real vs Pred.: (69, 45) vs (78, 39)      err(-9.3, 5.9)\n",
      "---------------> Real vs Pred.: (79, 62) vs (78, 64)      err(1.0, -1.5)\n",
      "\n",
      "\n"
     ]
    }
   ],
   "source": [
    "#################################################################################################\n",
    "#CES error\n",
    "#\n",
    "def calcError(real, pred):\n",
    "    error = 0.\n",
    "    real0 = np.asarray(real)\n",
    "    for i in range(real.shape[0]):\n",
    "        error = error + np.sqrt(pow(pred[i][0] - real0[i][0], 2) + pow(pred[i][1] - real0[i][1], 2))\n",
    "    return error  /  real.shape[0]\n",
    "\n",
    "###\n",
    "y_predicted = model.predict(x_test)\n",
    "\n",
    "error = calcError(y_test, y_predicted)\n",
    "print(\"CES ERROR: \", error)\n",
    "print(\"\\n\")\n",
    "\n",
    "###\n",
    "y_test0 = np.asarray(y_test)\n",
    "for i in range(1,10):\n",
    "    print(\"---------------> Real vs Pred.: (%.0f, %.0f) vs (%.0f, %.0f)      err(%.1f, %.1f)\"\n",
    "          % (y_test0[i][0], y_test0[i][1], y_predicted[i][0], y_predicted[i][1],\n",
    "            y_test0[i][0] - y_predicted[i][0], y_test0[i][1] - y_predicted[i][1]))\n",
    "print(\"\\n\")\n",
    "\n",
    "\n",
    "#TODO: Maximo error, error medio, desviacion del error..."
   ]
  },
  {
   "cell_type": "code",
   "execution_count": 17,
   "metadata": {
    "collapsed": true
   },
   "outputs": [],
   "source": [
    "#model.save(\"cesnet_redux_last_\"+str(error)+\".h5\")"
   ]
  },
  {
   "cell_type": "code",
   "execution_count": 18,
   "metadata": {
    "collapsed": false
   },
   "outputs": [
    {
     "name": "stdout",
     "output_type": "stream",
     "text": [
      "Wed Jan 24 14:23:05 2018\n",
      "Samples by fold:  752 \n",
      "\n",
      "processing fold # 0\n",
      "Wed Jan 24 14:59:31 2018\n",
      "  Min error 203.108294 at epoch 89958\n",
      "  CES ERROR:  36.9303943378789\n",
      "processing fold # 1\n",
      "Wed Jan 24 15:25:19 2018\n",
      "  Min error 200.975550 at epoch 89969\n",
      "  CES ERROR:  24.421617615808394\n",
      "processing fold # 2\n",
      "Wed Jan 24 16:03:11 2018\n",
      "  Min error 82.352236 at epoch 89698\n",
      "  CES ERROR:  54.19424141179361\n"
     ]
    }
   ],
   "source": [
    "#################################################################################################\n",
    "# K Fold Study\n",
    "k = 3\n",
    "n_samples = x_data.size // x_data.shape[1] // k\n",
    "\n",
    "print(time.ctime())\n",
    "print('Samples by fold: ', n_samples, '\\n')\n",
    "all_scores = []\n",
    "all_hist = []\n",
    "for i in range(k):\n",
    "    print('processing fold #', i)\n",
    "\n",
    "    x_valid3 = x_data[i * n_samples : (i + 1) * n_samples]\n",
    "    y_valid3 = y_data[i * n_samples : (i + 1) * n_samples]\n",
    "    x_data3 = np.concatenate([x_data[ : i * n_samples], x_data[(i + 1) * n_samples : ]], axis=0)\n",
    "    y_data3 = np.concatenate([y_data[ : i * n_samples], y_data[(i + 1) * n_samples : ]], axis=0)\n",
    "\n",
    "    model3 = build_model()\n",
    "    hist3 = model3.fit(x_data3, y_data3, validation_data=(x_valid3, y_valid3), epochs=epocas, batch_size=batch_size, verbose=0)\n",
    "    #all_hist.append(hist3.history['val_loss'])\n",
    "    y_predicted = model3.predict(x_test)\n",
    "    all_scores.append(calcError(y_test, y_predicted))\n",
    "    all_hist.append(hist3.history['val_mean_absolute_error'])\n",
    "    print(time.ctime())\n",
    "    print(\"  Min error %f at epoch %d\" % (np.min(hist3.history['val_loss'][:]), np.argmin(hist3.history['val_loss'][:])))\n",
    "    \n",
    "    y_predicted = model3.predict(x_test)\n",
    "    print(\"  CES ERROR: \", calcError(y_test, y_predicted))\n",
    "beep()"
   ]
  },
  {
   "cell_type": "code",
   "execution_count": 27,
   "metadata": {
    "collapsed": false
   },
   "outputs": [
    {
     "name": "stdout",
     "output_type": "stream",
     "text": [
      "[36.9303943378789, 24.421617615808394, 54.19424141179361]\n"
     ]
    },
    {
     "data": {
      "image/png": "[encoded data removed]",
      "text/plain": [
       "<matplotlib.figure.Figure at 0x2151516d320>"
      ]
     },
     "metadata": {},
     "output_type": "display_data"
    },
    {
     "data": {
      "image/png": "[encoded data removed]",
      "text/plain": [
       "<matplotlib.figure.Figure at 0x2151516d9e8>"
      ]
     },
     "metadata": {},
     "output_type": "display_data"
    }
   ],
   "source": [
    "print(all_scores)\n",
    "average_hist = [np.mean([x[i] for x in all_hist]) for i in range(epocas)]\n",
    "\n",
    "offset0 = 10000\n",
    "offset1 = None\n",
    "smooth_history = average_hist[offset0:offset1]\n",
    "plt.plot(range(1+offset0, len(smooth_history) + 1 + offset0), smooth_history)\n",
    "plt.xlabel('Epochs')\n",
    "plt.ylabel('Validation')\n",
    "plt.show()\n",
    "\n",
    "offset0 = 70000\n",
    "offset1 = None\n",
    "smooth_history = average_hist[offset0:offset1]#\n",
    "plt.plot(range(1+offset0, len(smooth_history) + 1 + offset0), smooth_history)\n",
    "plt.xlabel('Epochs')\n",
    "plt.ylabel('Validation')\n",
    "plt.show()"
   ]
  },
  {
   "cell_type": "code",
   "execution_count": 25,
   "metadata": {
    "collapsed": true
   },
   "outputs": [],
   "source": [
    "#Entrenar la red con todos los daton hasta la mejor epoca\n",
    "epocas_optimas = 99000\n",
    "x_data2 = (x_data - mean) / std"
   ]
  },
  {
   "cell_type": "code",
   "execution_count": 26,
   "metadata": {
    "collapsed": false
   },
   "outputs": [
    {
     "name": "stdout",
     "output_type": "stream",
     "text": [
      "678/678 [==============================] - 0s 507us/step\n",
      "test_mse_score=61.709418, test_mae_score=5.719725\n",
      "CES ERROR:  9.137178785632157\n",
      "\n",
      "\n"
     ]
    }
   ],
   "source": [
    "#\n",
    "model8 = build_model()\n",
    "model8.fit(x_data2, y_data, epochs=epocas_optimas, batch_size=batch_size, verbose=0)\n",
    "test_mse_score, test_mae_score = model8.evaluate(x_test, y_test)\n",
    "print(\"test_mse_score=%f, test_mae_score=%f\" % (test_mse_score, test_mae_score))\n",
    "y_predicted = model8.predict(x_test)\n",
    "error = calcError(y_test, y_predicted)\n",
    "print(\"CES ERROR: \", error)\n",
    "print(\"\\n\")\n",
    "beep()"
   ]
  },
  {
   "cell_type": "code",
   "execution_count": 22,
   "metadata": {
    "collapsed": true
   },
   "outputs": [],
   "source": [
    "#model.save(\"cesnet_redux_last_\"+str(error)+\".h5\")"
   ]
  },
  {
   "cell_type": "code",
   "execution_count": 23,
   "metadata": {
    "collapsed": false
   },
   "outputs": [
    {
     "data": {
      "text/plain": [
       "3902"
      ]
     },
     "execution_count": 23,
     "metadata": {},
     "output_type": "execute_result"
    }
   ],
   "source": [
    "len(np.unique(y_data))"
   ]
  },
  {
   "cell_type": "code",
   "execution_count": null,
   "metadata": {
    "collapsed": true
   },
   "outputs": [],
   "source": []
  },
  {
   "cell_type": "code",
   "execution_count": null,
   "metadata": {
    "collapsed": true
   },
   "outputs": [],
   "source": []
  },
  {
   "cell_type": "code",
   "execution_count": null,
   "metadata": {
    "collapsed": true
   },
   "outputs": [],
   "source": []
  },
  {
   "cell_type": "code",
   "execution_count": null,
   "metadata": {
    "collapsed": true
   },
   "outputs": [],
   "source": []
  },
  {
   "cell_type": "code",
   "execution_count": 24,
   "metadata": {
    "collapsed": false
   },
   "outputs": [
    {
     "ename": "SyntaxError",
     "evalue": "invalid syntax (<ipython-input-24-0953392099c8>, line 1)",
     "output_type": "error",
     "traceback": [
      "\u001b[0;36m  File \u001b[0;32m\"<ipython-input-24-0953392099c8>\"\u001b[0;36m, line \u001b[0;32m1\u001b[0m\n\u001b[0;31m    no ejecutar!!\u001b[0m\n\u001b[0m              ^\u001b[0m\n\u001b[0;31mSyntaxError\u001b[0m\u001b[0;31m:\u001b[0m invalid syntax\n"
     ]
    }
   ],
   "source": [
    "no ejecutar!!\n",
    "\n",
    "#https://docs.opencv.org/3.0-beta/doc/py_tutorials/py_tutorials.html\n",
    "#>pip install opencv-python\n",
    "# No funciona, tienes que bajarte el archivo desde: https://www.python.org/downloads/windows/ y hacer: pip install opencv_python‑3.2.0‑cp36‑cp36m‑win_amd64.whl\n",
    "#https://stackoverflow.com/questions/43184887/dll-load-failed-error-when-importing-cv2\n",
    "import cv2\n",
    "print(\"OpenCV v\", cv2.__version__)\n",
    "cv2.CascadeClassifier(cv2.data.haarcascades + \"haarcascade_frontalface_default.xml\")"
   ]
  },
  {
   "cell_type": "code",
   "execution_count": null,
   "metadata": {
    "collapsed": true
   },
   "outputs": [],
   "source": []
  },
  {
   "cell_type": "code",
   "execution_count": null,
   "metadata": {
    "collapsed": false
   },
   "outputs": [],
   "source": [
    "Ensembling ANN ?!"
   ]
  },
  {
   "cell_type": "code",
   "execution_count": null,
   "metadata": {
    "collapsed": true
   },
   "outputs": [],
   "source": []
  },
  {
   "cell_type": "code",
   "execution_count": null,
   "metadata": {
    "collapsed": true
   },
   "outputs": [],
   "source": []
  },
  {
   "cell_type": "code",
   "execution_count": null,
   "metadata": {
    "collapsed": false
   },
   "outputs": [],
   "source": [
    "#print(\"x,y,m0,m1,m2,m3,m4,m5,m6,m7,m8,m9,m10,m11,m12,m13,m14,m15,m16,m17,m18,m19\")\n",
    "\n",
    "No ejecutar!!\n",
    "\n",
    "ann = db.collection(u'ann')\n",
    "ptos = ann.get()\n",
    "\n",
    "lista_ptos = []\n",
    "allmacs = {}\n",
    "i = -1\n",
    "wifis = []\n",
    "for pto in ptos:\n",
    "    x = pto.get('pos').longitude\n",
    "    y = pto.get('pos').latitude\n",
    "    #print(y,x)\n",
    "    lista_ptos.append({'x': x, 'y': y})\n",
    "    wifis.append({'x': x, 'y': y})\n",
    "    i += 1\n",
    "    for mac in pto.get('wifi'):\n",
    "        dic = {}\n",
    "        dic[mac.get('bssid')] = mac.get('level')\n",
    "        wifis[i]['macs'] = dic\n",
    "        #\n",
    "        allmacs[mac.get('bssid')] = mac.get('level')\n",
    "\n",
    "        #print(mac.get('level'),',', mac.get('bssid'))\n",
    "    #print(u'{} => {}'.format(pto.id, pto.get('fecha')))\n",
    "    #print(u'{} => {}     {}'.format(pto.get('pos').longitude, pto.get('pos').latitude, pto.to_dict()))\n",
    "#print(wifis)\n",
    "\n",
    "lista_macs = []\n",
    "cabecera = \"x,y,\"\n",
    "for mac, level in allmacs.items():\n",
    "    lista_macs.append(mac)\n",
    "    cabecera += mac + \",\"\n",
    "#print(cabecera)"
   ]
  }
 ],
 "metadata": {
  "anaconda-cloud": {},
  "kernelspec": {
   "display_name": "Python [default]",
   "language": "python",
   "name": "python3"
  },
  "language_info": {
   "codemirror_mode": {
    "name": "ipython",
    "version": 3
   },
   "file_extension": ".py",
   "mimetype": "text/x-python",
   "name": "python",
   "nbconvert_exporter": "python",
   "pygments_lexer": "ipython3",
   "version": "3.5.2"
  }
 },
 "nbformat": 4,
 "nbformat_minor": 1
}
